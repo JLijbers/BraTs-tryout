{
  "nbformat": 4,
  "nbformat_minor": 0,
  "metadata": {
    "colab": {
      "provenance": [],
      "gpuType": "L4",
      "collapsed_sections": [
        "L5eAxki2yNER",
        "93GTMHp_xH9B"
      ]
    },
    "kernelspec": {
      "name": "python3",
      "display_name": "Python 3"
    },
    "language_info": {
      "name": "python"
    },
    "accelerator": "GPU"
  },
  "cells": [
    {
      "cell_type": "markdown",
      "source": [
        "## Packages"
      ],
      "metadata": {
        "id": "1kCRujfZx6OP"
      }
    },
    {
      "cell_type": "code",
      "source": [
        "!git clone https://github.com/OSUPCVLab/SegFormer3D.git\n",
        "%cd SegFormer3D\n",
        "\n",
        "!pip install -r requirements.txt\n",
        "!pip install monai accelerate termcolor"
      ],
      "metadata": {
        "id": "W9dVFpz5D5FB"
      },
      "execution_count": null,
      "outputs": []
    },
    {
      "cell_type": "code",
      "source": [
        "import os\n",
        "import glob\n",
        "import random\n",
        "import numpy as np\n",
        "import pandas as pd\n",
        "import torch\n",
        "import matplotlib.pyplot as plt\n",
        "from monai.transforms import Transform, MapTransform"
      ],
      "metadata": {
        "id": "DEvoQDXerUgi"
      },
      "execution_count": 7,
      "outputs": []
    },
    {
      "cell_type": "code",
      "source": [
        "from google.colab import drive\n",
        "drive.mount('/content/drive')"
      ],
      "metadata": {
        "colab": {
          "base_uri": "https://localhost:8080/"
        },
        "id": "MMyWGRgLrjD1",
        "outputId": "b129ff60-ad18-4962-a0bc-9d932da06376"
      },
      "execution_count": 3,
      "outputs": [
        {
          "output_type": "stream",
          "name": "stdout",
          "text": [
            "Drive already mounted at /content/drive; to attempt to forcibly remount, call drive.mount(\"/content/drive\", force_remount=True).\n"
          ]
        }
      ]
    },
    {
      "cell_type": "markdown",
      "source": [
        "## Adjust SegFormer3D package to handle BraTs 2023 data"
      ],
      "metadata": {
        "id": "QrY6lWp9Egvc"
      }
    },
    {
      "cell_type": "code",
      "source": [
        "!mkdir -p /content/SegFormer3D/data/brats2023_seg/BraTS2023_Processed_Data\n",
        "!mkdir -p /content/SegFormer3D/data/brats2023_seg/brats2023_raw_data\n",
        "!mkdir -p /content/SegFormer3D/experiments/brats_2023/my_experiment"
      ],
      "metadata": {
        "id": "QONCWsjzOe3y"
      },
      "execution_count": 6,
      "outputs": []
    },
    {
      "cell_type": "code",
      "source": [
        "%%writefile /content/SegFormer3D/data/brats2023_seg/brats2023_raw_data/brats2023_seg_preprocess.py\n",
        "import os\n",
        "import torch\n",
        "import nibabel as nib\n",
        "import numpy as np\n",
        "from sklearn.preprocessing import MinMaxScaler\n",
        "from monai.transforms import Orientation, EnsureType, Transform, MapTransform\n",
        "from monai.utils.enums import TransformBackends\n",
        "from monai.config.type_definitions import NdarrayOrTensor\n",
        "from multiprocessing import Pool\n",
        "\n",
        "\n",
        "class ConvertToMultiChannelBasedOnBrats2023Classes(Transform):\n",
        "    \"\"\"\n",
        "    Convert labels to multi channels based on BraTS 2023 classes:\n",
        "    label 1 is the Nonenhancing Tumor Core (NETC)\n",
        "    label 2 is the Surrounding Non-Enhancing FLAIR Hyperintensity (SNFH)\n",
        "    label 3 is the Enhancing Tumor (ET)\n",
        "    \"\"\"\n",
        "\n",
        "    backend = [TransformBackends.TORCH, TransformBackends.NUMPY]\n",
        "\n",
        "    def __call__(self, img):\n",
        "        # if img has channel dim, squeeze it\n",
        "        if img.ndim == 4 and img.shape[0] == 1:\n",
        "            img = img.squeeze(0)\n",
        "\n",
        "        result = [\n",
        "            (img == 1),  # NETC\n",
        "            (img == 2),  # SNFH\n",
        "            (img == 3)   # ET\n",
        "        ]\n",
        "        return torch.stack(result, dim=0) if isinstance(img, torch.Tensor) else np.stack(result, axis=0)\n",
        "\n",
        "\n",
        "class Brats2023Preprocess:\n",
        "    def __init__(self, root_dir, save_dir=\"/content/drive/MyDrive/BraTs/BraTS2023_Processed_Data\"):\n",
        "        self.root_dir = root_dir\n",
        "        self.save_dir = save_dir\n",
        "        self.MRI_TYPE = [\"t1n\", \"t1c\", \"t2f\", \"t2w\", \"seg\"]\n",
        "        self.case_names = next(os.walk(self.root_dir), (None, None, []))[1]\n",
        "        assert len(self.case_names) > 0, \"No cases found in the directory!\"\n",
        "\n",
        "    def normalize(self, x):\n",
        "        scaler = MinMaxScaler()\n",
        "        normalized = scaler.fit_transform(x.reshape(-1, x.shape[-1])).reshape(x.shape)\n",
        "        return normalized\n",
        "\n",
        "    def load_nifti(self, filepath):\n",
        "        nifti_data = nib.load(filepath)\n",
        "        data = nifti_data.get_fdata()\n",
        "        affine = nifti_data.affine\n",
        "        return data, affine\n",
        "\n",
        "    def preprocess_modality(self, filepath, is_label=False):\n",
        "        data, affine = self.load_nifti(filepath)\n",
        "        if is_label:\n",
        "            data = data.astype(np.uint8)\n",
        "            data = ConvertToMultiChannelBasedOnBrats2023Classes()(data)  # Use custom transform class\n",
        "        else:\n",
        "            data = self.normalize(data)\n",
        "            data = data[np.newaxis, ...]\n",
        "\n",
        "        data = Orientation(axcodes=\"RAS\")(EnsureType()(data))\n",
        "        return data\n",
        "\n",
        "    def process_case(self, case_name):\n",
        "        case_dir = os.path.join(self.root_dir, case_name)\n",
        "        save_case_dir = os.path.join(self.save_dir, case_name)\n",
        "        os.makedirs(save_case_dir, exist_ok=True)\n",
        "\n",
        "        modalities = []\n",
        "        for mri_type in self.MRI_TYPE[:-1]:\n",
        "            filepath = os.path.join(case_dir, f\"{case_name}-{mri_type}.nii\")\n",
        "            modality_data = self.preprocess_modality(filepath, is_label=False)\n",
        "            modalities.append(modality_data)\n",
        "\n",
        "        label_filepath = os.path.join(case_dir, f\"{case_name}-seg.nii\")\n",
        "        label_data = self.preprocess_modality(label_filepath, is_label=True)\n",
        "\n",
        "        modalities = np.concatenate(modalities, axis=0)\n",
        "        torch.save(modalities, os.path.join(save_case_dir, f\"{case_name}_modalities.pt\"))\n",
        "        torch.save(label_data, os.path.join(save_case_dir, f\"{case_name}_label.pt\"))\n",
        "\n",
        "    def preprocess(self):\n",
        "        with Pool() as pool:\n",
        "            pool.map(self.process_case, self.case_names)\n",
        "\n",
        "if __name__ == \"__main__\":\n",
        "    preprocessor = Brats2023Preprocess(root_dir=\"/content/drive/MyDrive/BraTs/brats2023-training\")\n",
        "    preprocessor.preprocess()"
      ],
      "metadata": {
        "colab": {
          "base_uri": "https://localhost:8080/"
        },
        "id": "AYnwAbSWEOJl",
        "outputId": "69a383f0-1929-489f-f5d4-136d310110a5"
      },
      "execution_count": 27,
      "outputs": [
        {
          "output_type": "stream",
          "name": "stdout",
          "text": [
            "Overwriting /content/SegFormer3D/data/brats2023_seg/brats2023_raw_data/brats2023_seg_preprocess.py\n"
          ]
        }
      ]
    },
    {
      "cell_type": "code",
      "source": [
        "%%writefile /content/SegFormer3D/dataloaders/brats2023_seg.py\n",
        "import os\n",
        "import torch\n",
        "import pandas as pd\n",
        "from torch.utils.data import Dataset\n",
        "\n",
        "class Brats2023Dataset(Dataset):\n",
        "    def __init__(self, root_dir, is_train=True, transform=None, fold_id=None):\n",
        "        super().__init__()\n",
        "        csv_name = \"train.csv\" if is_train else \"validation.csv\"\n",
        "        csv_fp = os.path.join(root_dir, csv_name)\n",
        "        assert os.path.exists(csv_fp), f\"CSV file not found: {csv_fp}\"\n",
        "\n",
        "        self.csv = pd.read_csv(csv_fp)\n",
        "        self.transform = transform\n",
        "\n",
        "    def __len__(self):\n",
        "        return len(self.csv)\n",
        "\n",
        "    def __getitem__(self, idx):\n",
        "        data_path = self.csv[\"data_path\"][idx]\n",
        "        case_name = self.csv[\"case_name\"][idx]\n",
        "\n",
        "        volume_fp = os.path.join(data_path, f\"{case_name}_modalities.pt\")\n",
        "        label_fp = os.path.join(data_path, f\"{case_name}_label.pt\")\n",
        "\n",
        "        volume = torch.tensor(torch.load(volume_fp)).float()\n",
        "        label = torch.tensor(torch.load(label_fp)).float()\n",
        "\n",
        "        data = {\"image\": volume, \"label\": label}\n",
        "\n",
        "        if self.transform:\n",
        "            data = self.transform(data)\n",
        "\n",
        "        return data"
      ],
      "metadata": {
        "colab": {
          "base_uri": "https://localhost:8080/"
        },
        "id": "2xnM8BTuEam9",
        "outputId": "438f7f71-5bd4-4d82-b935-cc2546d7eff6"
      },
      "execution_count": 11,
      "outputs": [
        {
          "output_type": "stream",
          "name": "stdout",
          "text": [
            "Writing /content/SegFormer3D/dataloaders/brats2023_seg.py\n"
          ]
        }
      ]
    },
    {
      "cell_type": "code",
      "source": [
        "%%writefile /content/SegFormer3D/dataloaders/build_dataset.py\n",
        "import sys\n",
        "from typing import Dict\n",
        "from monai.data import DataLoader\n",
        "from augmentations.augmentations import build_augmentations\n",
        "\n",
        "def build_dataset(dataset_type: str, dataset_args: Dict):\n",
        "    if dataset_type == \"brats2023_seg\":\n",
        "        from .brats2023_seg import Brats2023Dataset\n",
        "        dataset = Brats2023Dataset(\n",
        "            root_dir=dataset_args[\"root\"],\n",
        "            is_train=dataset_args[\"train\"],\n",
        "            transform=build_augmentations(dataset_args[\"train\"]),\n",
        "            fold_id=dataset_args[\"fold_id\"],\n",
        "        )\n",
        "        return dataset\n",
        "    else:\n",
        "        raise ValueError(\"only brats2023 segmentation is currently supported!\")\n",
        "\n",
        "def build_dataloader(dataset, dataloader_args: Dict, config: Dict = None, train: bool = True) -> DataLoader:\n",
        "    dataloader = DataLoader(\n",
        "        dataset=dataset,\n",
        "        batch_size=dataloader_args[\"batch_size\"],\n",
        "        shuffle=dataloader_args[\"shuffle\"],\n",
        "        num_workers=dataloader_args[\"num_workers\"],\n",
        "        drop_last=dataloader_args[\"drop_last\"],\n",
        "        pin_memory=True,\n",
        "    )\n",
        "    return dataloader"
      ],
      "metadata": {
        "colab": {
          "base_uri": "https://localhost:8080/"
        },
        "id": "cnLceUpMEerV",
        "outputId": "e6519a62-89a9-4168-e0f2-cdce21f6a366"
      },
      "execution_count": 12,
      "outputs": [
        {
          "output_type": "stream",
          "name": "stdout",
          "text": [
            "Overwriting /content/SegFormer3D/dataloaders/build_dataset.py\n"
          ]
        }
      ]
    },
    {
      "cell_type": "code",
      "source": [
        "%%writefile /content/SegFormer3D/experiments/brats_2023/my_experiment/config.yaml\n",
        "# wandb parameters\n",
        "project: segfmr3d\n",
        "wandb_parameters:\n",
        "  mode: \"offline\" # set this to \"online\" if you want to log to wandb\n",
        "  entity: pcvlab\n",
        "  group: brats2023\n",
        "  name: segformer3d_adamw_batch2_diceloss\n",
        "  resume: False\n",
        "  tags: [\"pcvlab\", \"dice\", \"b0_model\", \"adamw\"]\n",
        "\n",
        "# model parameters\n",
        "model_name: segformer3d\n",
        "model_parameters:\n",
        "  in_channels: 4\n",
        "  sr_ratios: [4, 2, 1, 1]\n",
        "  embed_dims: [32, 64, 160, 256]\n",
        "  patch_kernel_size: [7, 3, 3, 3]\n",
        "  patch_stride: [4, 2, 2, 2]\n",
        "  patch_padding: [3, 1, 1, 1]\n",
        "  mlp_ratios: [4, 4, 4, 4]\n",
        "  num_heads: [1, 2, 5, 8]\n",
        "  depths: [2, 2, 2, 2]\n",
        "  num_classes: 3\n",
        "  decoder_dropout: 0.0\n",
        "  decoder_head_embedding_dim: 256\n",
        "\n",
        "# loss function\n",
        "loss_fn:\n",
        "  loss_type: \"dice\"\n",
        "  loss_args: None\n",
        "\n",
        "# optimizer\n",
        "optimizer:\n",
        "  optimizer_type: \"adamw\"\n",
        "  optimizer_args:\n",
        "    lr: 0.0001\n",
        "    weight_decay: 0.01\n",
        "\n",
        "# schedulers\n",
        "warmup_scheduler:\n",
        "  enabled: True # should be always true\n",
        "  warmup_epochs: 20\n",
        "\n",
        "train_scheduler:\n",
        "  scheduler_type: 'cosine_annealing_wr'\n",
        "  scheduler_args:\n",
        "    t_0_epochs: 400\n",
        "    t_mult: 1\n",
        "    min_lr: 0.000006\n",
        "\n",
        "# (Not fully implemented yet) exponential moving average\n",
        "ema:\n",
        "  enabled: False\n",
        "  ema_decay: 0.999\n",
        "  val_ema_every: 1\n",
        "\n",
        "sliding_window_inference:\n",
        "  sw_batch_size: 4\n",
        "  roi: [128, 128, 128]\n",
        "\n",
        "# gradient clipping (not implemented yet)\n",
        "clip_gradients:\n",
        "  enabled: False\n",
        "  clip_gradients_value: 0.1\n",
        "\n",
        "# training hyperparameters\n",
        "training_parameters:\n",
        "  seed: 42\n",
        "  num_epochs: 800\n",
        "  cutoff_epoch: 400\n",
        "  load_optimizer: False\n",
        "  print_every: 200\n",
        "  calculate_metrics: True\n",
        "  grad_accumulate_steps: 4 # default: 1\n",
        "  checkpoint_save_dir: \"model_checkpoints/best_dice_checkpoint\"\n",
        "  load_checkpoint: # not implemented yet\n",
        "    load_full_checkpoint: False\n",
        "    load_model_only: False\n",
        "    load_checkpoint_path: None\n",
        "\n",
        "# dataset args\n",
        "dataset_parameters:\n",
        "  dataset_type: \"brats2023_seg\"\n",
        "  train_dataset_args:\n",
        "    root: \"../../../data/brats2023_seg\"\n",
        "    train: True\n",
        "    fold_id: null\n",
        "\n",
        "  val_dataset_args:\n",
        "    root: \"../../../data/brats2023_seg\"\n",
        "    train: False\n",
        "    fold_id: null\n",
        "\n",
        "  train_dataloader_args:\n",
        "    batch_size: 4\n",
        "    shuffle: True\n",
        "    num_workers: 8\n",
        "    drop_last: True\n",
        "\n",
        "  val_dataloader_args:\n",
        "    batch_size: 2\n",
        "    shuffle: False\n",
        "    num_workers: 6\n",
        "    drop_last: False"
      ],
      "metadata": {
        "colab": {
          "base_uri": "https://localhost:8080/"
        },
        "id": "PhL7-MHaIhzw",
        "outputId": "8c84dd42-0b2d-40ba-fc9c-999a69e34ab4"
      },
      "execution_count": 41,
      "outputs": [
        {
          "output_type": "stream",
          "name": "stdout",
          "text": [
            "Overwriting /content/SegFormer3D/experiments/brats_2023/my_experiment/config.yaml\n"
          ]
        }
      ]
    },
    {
      "cell_type": "markdown",
      "source": [
        "## Data preparation"
      ],
      "metadata": {
        "id": "diUjZgZAKp5B"
      }
    },
    {
      "cell_type": "markdown",
      "source": [
        "### Pre-process data"
      ],
      "metadata": {
        "id": "d2q1jmwD_iJD"
      }
    },
    {
      "cell_type": "code",
      "source": [
        "!python /content/SegFormer3D/data/brats2023_seg/brats2023_raw_data/brats2023_seg_preprocess.py"
      ],
      "metadata": {
        "colab": {
          "base_uri": "https://localhost:8080/"
        },
        "id": "44Tkes7bKprK",
        "outputId": "214eede6-dcfe-410c-a670-9145e235e144"
      },
      "execution_count": 30,
      "outputs": [
        {
          "output_type": "stream",
          "name": "stdout",
          "text": [
            "2024-07-09 14:45:06.454717: E external/local_xla/xla/stream_executor/cuda/cuda_dnn.cc:9261] Unable to register cuDNN factory: Attempting to register factory for plugin cuDNN when one has already been registered\n",
            "2024-07-09 14:45:06.454774: E external/local_xla/xla/stream_executor/cuda/cuda_fft.cc:607] Unable to register cuFFT factory: Attempting to register factory for plugin cuFFT when one has already been registered\n",
            "2024-07-09 14:45:06.456961: E external/local_xla/xla/stream_executor/cuda/cuda_blas.cc:1515] Unable to register cuBLAS factory: Attempting to register factory for plugin cuBLAS when one has already been registered\n",
            "2024-07-09 14:45:07.504585: W tensorflow/compiler/tf2tensorrt/utils/py_utils.cc:38] TF-TRT Warning: Could not find TensorRT\n",
            "/usr/lib/python3.10/multiprocessing/popen_fork.py:66: RuntimeWarning: os.fork() was called. os.fork() is incompatible with multithreaded code, and JAX is multithreaded, so this will likely lead to a deadlock.\n",
            "  self.pid = os.fork()\n"
          ]
        }
      ]
    },
    {
      "cell_type": "markdown",
      "source": [
        "### Visualize data"
      ],
      "metadata": {
        "id": "ZAhbsn_f_SRg"
      }
    },
    {
      "cell_type": "code",
      "source": [
        "# Function to load a sample case and check the labels\n",
        "def check_preprocessed_labels(case_dir, case_name):\n",
        "    label_fp = os.path.join(case_dir, f\"{case_name}/{case_name}_label.pt\")\n",
        "    label = torch.load(label_fp)\n",
        "\n",
        "    print(\"Shape of label tensor:\", label.shape)\n",
        "    unique_classes = torch.unique(label)\n",
        "    print(\"Unique classes in label tensor:\", unique_classes)\n",
        "\n",
        "    return label\n",
        "\n",
        "# Visualize the labels for a specific slice\n",
        "def visualize_labels(label_tensor, slice_idx=70):\n",
        "    fig, axes = plt.subplots(1, 3, figsize=(20, 5))\n",
        "    for i in range(3):\n",
        "        axes[i].imshow(label_tensor[i, :, :, slice_idx].numpy(), cmap='gray')\n",
        "        axes[i].set_title(f'Class {i}')\n",
        "        axes[i].axis('off')\n",
        "    plt.show()\n",
        "\n",
        "# Path to the preprocessed data directory and sample case name\n",
        "processed_data_dir = '/content/drive/MyDrive/BraTs/BraTS2023_Processed_Data'\n",
        "sample_case_name = 'BraTS-MET-00024-000'\n",
        "\n",
        "# Check and visualize the labels\n",
        "label_tensor = check_preprocessed_labels(processed_data_dir, sample_case_name)\n",
        "visualize_labels(label_tensor)"
      ],
      "metadata": {
        "colab": {
          "base_uri": "https://localhost:8080/",
          "height": 430
        },
        "id": "9Kd15BJA5H2D",
        "outputId": "f43c2d6a-296b-498d-feb5-80bed725728b"
      },
      "execution_count": 39,
      "outputs": [
        {
          "output_type": "stream",
          "name": "stdout",
          "text": [
            "Shape of label tensor: torch.Size([3, 240, 240, 155])\n",
            "Unique classes in label tensor: metatensor([False,  True])\n"
          ]
        },
        {
          "output_type": "display_data",
          "data": {
            "text/plain": [
              "<Figure size 2000x500 with 3 Axes>"
            ],
            "image/png": "[encoded data removed]"
          },
          "metadata": {}
        }
      ]
    },
    {
      "cell_type": "markdown",
      "source": [
        "### Train-test-split"
      ],
      "metadata": {
        "id": "7aFqHgmu_cGJ"
      }
    },
    {
      "cell_type": "code",
      "source": [
        "# Path to the processed data directory\n",
        "processed_data_dir = '/content/drive/MyDrive/BraTs/BraTS2023_Processed_Data'\n",
        "\n",
        "# Assume each folder in the processed data directory represents a case\n",
        "cases = [d for d in os.listdir(processed_data_dir) if os.path.isdir(os.path.join(processed_data_dir, d))]\n",
        "\n",
        "# Split cases into train and validation (e.g., 80-20 split)\n",
        "train_cases = cases[:int(len(cases) * 0.8)]\n",
        "val_cases = cases[int(len(cases) * 0.8):]\n",
        "\n",
        "# Create DataFrames\n",
        "train_df = pd.DataFrame({'data_path': [os.path.join(processed_data_dir, c) for c in train_cases], 'case_name': train_cases})\n",
        "val_df = pd.DataFrame({'data_path': [os.path.join(processed_data_dir, c) for c in val_cases], 'case_name': val_cases})\n",
        "\n",
        "# Save to CSV\n",
        "train_df.to_csv('/content/SegFormer3D/data/brats2023_seg/train.csv', index=False)\n",
        "val_df.to_csv('/content/SegFormer3D/data/brats2023_seg/validation.csv', index=False)"
      ],
      "metadata": {
        "id": "fxe_uNWOVMJd"
      },
      "execution_count": 31,
      "outputs": []
    },
    {
      "cell_type": "markdown",
      "source": [
        "## Training"
      ],
      "metadata": {
        "id": "ZKSKtDPEEsbO"
      }
    },
    {
      "cell_type": "code",
      "source": [
        "!pip install safetensors>=0.4.1\n",
        "!pip install transformers -U"
      ],
      "metadata": {
        "id": "mNsY_o4PWCFe"
      },
      "execution_count": null,
      "outputs": []
    },
    {
      "cell_type": "code",
      "source": [
        "%cd /content/SegFormer3D/experiments/brats_2023/my_experiment/\n",
        "!accelerate launch --config_file ./gpu_accelerate.yaml run_experiment.py"
      ],
      "metadata": {
        "colab": {
          "base_uri": "https://localhost:8080/"
        },
        "id": "4oLHPjV9I61h",
        "outputId": "3ae33bc4-c119-4299-c5b0-53b55990754c"
      },
      "execution_count": 42,
      "outputs": [
        {
          "output_type": "stream",
          "name": "stdout",
          "text": [
            "/content/SegFormer3D/experiments/brats_2023/my_experiment\n",
            "2024-07-09 15:26:47.323597: E external/local_xla/xla/stream_executor/cuda/cuda_dnn.cc:9261] Unable to register cuDNN factory: Attempting to register factory for plugin cuDNN when one has already been registered\n",
            "2024-07-09 15:26:47.323648: E external/local_xla/xla/stream_executor/cuda/cuda_fft.cc:607] Unable to register cuFFT factory: Attempting to register factory for plugin cuFFT when one has already been registered\n",
            "2024-07-09 15:26:47.328292: E external/local_xla/xla/stream_executor/cuda/cuda_blas.cc:1515] Unable to register cuBLAS factory: Attempting to register factory for plugin cuBLAS when one has already been registered\n",
            "2024-07-09 15:26:48.426965: W tensorflow/compiler/tf2tensorrt/utils/py_utils.cc:38] TF-TRT Warning: Could not find TensorRT\n",
            "\u001b[34m\u001b[1mwandb\u001b[0m: Tracking run with wandb version 0.15.12\n",
            "\u001b[34m\u001b[1mwandb\u001b[0m: W&B syncing is set to \u001b[1m`offline`\u001b[0m in this directory.  \n",
            "\u001b[34m\u001b[1mwandb\u001b[0m: Run \u001b[1m`wandb online`\u001b[0m or set \u001b[1mWANDB_MODE=online\u001b[0m to enable cloud syncing.\n",
            "-------------------------------------------------------\n",
            "[info]: Experiment Info\n",
            "[info] ----- Project: \u001b[31msegfmr3d\u001b[0m\n",
            "[info] ----- Group: \u001b[31mbrats2023\u001b[0m\n",
            "[info] ----- Name: \u001b[31msegformer3d_adamw_batch2_diceloss\u001b[0m\n",
            "[info] ----- Batch Size: \u001b[31m4\u001b[0m\n",
            "[info] ----- Num Epochs: \u001b[31m800\u001b[0m\n",
            "[info] ----- Loss: \u001b[31mdice\u001b[0m\n",
            "[info] ----- Optimizer: \u001b[31madamw\u001b[0m\n",
            "[info] ----- Train Dataset Size: \u001b[31m132\u001b[0m\n",
            "[info] ----- Test Dataset Size: \u001b[31m33\u001b[0m\n",
            "[info] ----- Distributed Training: \u001b[31mFalse\u001b[0m\n",
            "[info] ----- Num Classes: \u001b[31m3\u001b[0m\n",
            "[info] ----- EMA: \u001b[31mFalse\u001b[0m\n",
            "[info] ----- Load From Checkpoint: \u001b[31mFalse\u001b[0m\n",
            "[info] ----- Params: \u001b[31m4525251\u001b[0m\n",
            "-------------------------------------------------------\n",
            "\u001b[34m\u001b[1mwandb\u001b[0m: logging graph, to disable use `wandb.watch(log_graph=False)`\n",
            "  0% 0/800 [00:00<?, ?it/s]\u001b[31m\n",
            "[info] -- warming up learning rate \n",
            "\u001b[0m\n",
            "/usr/lib/python3.10/multiprocessing/popen_fork.py:66: RuntimeWarning: os.fork() was called. os.fork() is incompatible with multithreaded code, and JAX is multithreaded, so this will likely lead to a deadlock.\n",
            "  self.pid = os.fork()\n",
            "/content/SegFormer3D/experiments/brats_2023/my_experiment/../../../dataloaders/brats2023_seg.py:27: UserWarning: To copy construct from a tensor, it is recommended to use sourceTensor.clone().detach() or sourceTensor.clone().detach().requires_grad_(True), rather than torch.tensor(sourceTensor).\n",
            "  label = torch.tensor(torch.load(label_fp)).float()\n",
            "/content/SegFormer3D/experiments/brats_2023/my_experiment/../../../dataloaders/brats2023_seg.py:27: UserWarning: To copy construct from a tensor, it is recommended to use sourceTensor.clone().detach() or sourceTensor.clone().detach().requires_grad_(True), rather than torch.tensor(sourceTensor).\n",
            "  label = torch.tensor(torch.load(label_fp)).float()\n",
            "/content/SegFormer3D/experiments/brats_2023/my_experiment/../../../dataloaders/brats2023_seg.py:27: UserWarning: To copy construct from a tensor, it is recommended to use sourceTensor.clone().detach() or sourceTensor.clone().detach().requires_grad_(True), rather than torch.tensor(sourceTensor).\n",
            "  label = torch.tensor(torch.load(label_fp)).float()\n",
            "/content/SegFormer3D/experiments/brats_2023/my_experiment/../../../dataloaders/brats2023_seg.py:27: UserWarning: To copy construct from a tensor, it is recommended to use sourceTensor.clone().detach() or sourceTensor.clone().detach().requires_grad_(True), rather than torch.tensor(sourceTensor).\n",
            "  label = torch.tensor(torch.load(label_fp)).float()\n",
            "/content/SegFormer3D/experiments/brats_2023/my_experiment/../../../dataloaders/brats2023_seg.py:27: UserWarning: To copy construct from a tensor, it is recommended to use sourceTensor.clone().detach() or sourceTensor.clone().detach().requires_grad_(True), rather than torch.tensor(sourceTensor).\n",
            "  label = torch.tensor(torch.load(label_fp)).float()\n",
            "/content/SegFormer3D/experiments/brats_2023/my_experiment/../../../dataloaders/brats2023_seg.py:27: UserWarning: To copy construct from a tensor, it is recommended to use sourceTensor.clone().detach() or sourceTensor.clone().detach().requires_grad_(True), rather than torch.tensor(sourceTensor).\n",
            "  label = torch.tensor(torch.load(label_fp)).float()\n",
            "/content/SegFormer3D/experiments/brats_2023/my_experiment/../../../dataloaders/brats2023_seg.py:27: UserWarning: To copy construct from a tensor, it is recommended to use sourceTensor.clone().detach() or sourceTensor.clone().detach().requires_grad_(True), rather than torch.tensor(sourceTensor).\n",
            "  label = torch.tensor(torch.load(label_fp)).float()\n",
            "/content/SegFormer3D/experiments/brats_2023/my_experiment/../../../dataloaders/brats2023_seg.py:27: UserWarning: To copy construct from a tensor, it is recommended to use sourceTensor.clone().detach() or sourceTensor.clone().detach().requires_grad_(True), rather than torch.tensor(sourceTensor).\n",
            "  label = torch.tensor(torch.load(label_fp)).float()\n",
            "Original x shape: torch.Size([16, 13824, 32])\n",
            "  0% 0/800 [02:56<?, ?it/s]\n",
            "Traceback (most recent call last):\n",
            "  File \"/content/SegFormer3D/experiments/brats_2023/my_experiment/run_experiment.py\", line 240, in <module>\n",
            "    launch_experiment(args.config)\n",
            "  File \"/content/SegFormer3D/experiments/brats_2023/my_experiment/run_experiment.py\", line 140, in launch_experiment\n",
            "    trainer.train()\n",
            "  File \"/content/SegFormer3D/experiments/brats_2023/my_experiment/../../../train_scripts/trainer_ddp.py\", line 442, in train\n",
            "    self._run_train_val()\n",
            "  File \"/content/SegFormer3D/experiments/brats_2023/my_experiment/../../../train_scripts/trainer_ddp.py\", line 261, in _run_train_val\n",
            "    train_loss = self._train_step()\n",
            "  File \"/content/SegFormer3D/experiments/brats_2023/my_experiment/../../../train_scripts/trainer_ddp.py\", line 138, in _train_step\n",
            "    predicted = self.model.forward(data)\n",
            "  File \"/content/SegFormer3D/experiments/brats_2023/my_experiment/../../../architectures/segformer3d.py\", line 112, in forward\n",
            "    x = self.segformer_encoder(x)\n",
            "  File \"/usr/local/lib/python3.10/dist-packages/torch/nn/modules/module.py\", line 1532, in _wrapped_call_impl\n",
            "    return self._call_impl(*args, **kwargs)\n",
            "  File \"/usr/local/lib/python3.10/dist-packages/torch/nn/modules/module.py\", line 1582, in _call_impl\n",
            "    result = forward_call(*args, **kwargs)\n",
            "  File \"/content/SegFormer3D/experiments/brats_2023/my_experiment/../../../architectures/segformer3d.py\", line 421, in forward\n",
            "    x = blk(x)\n",
            "  File \"/usr/local/lib/python3.10/dist-packages/torch/nn/modules/module.py\", line 1532, in _wrapped_call_impl\n",
            "    return self._call_impl(*args, **kwargs)\n",
            "  File \"/usr/local/lib/python3.10/dist-packages/torch/nn/modules/module.py\", line 1541, in _call_impl\n",
            "    return forward_call(*args, **kwargs)\n",
            "  File \"/content/SegFormer3D/experiments/brats_2023/my_experiment/../../../architectures/segformer3d.py\", line 287, in forward\n",
            "    x = x + self.attention(self.norm1(x))\n",
            "  File \"/usr/local/lib/python3.10/dist-packages/torch/nn/modules/module.py\", line 1532, in _wrapped_call_impl\n",
            "    return self._call_impl(*args, **kwargs)\n",
            "  File \"/usr/local/lib/python3.10/dist-packages/torch/nn/modules/module.py\", line 1541, in _call_impl\n",
            "    return forward_call(*args, **kwargs)\n",
            "  File \"/content/SegFormer3D/experiments/brats_2023/my_experiment/../../../architectures/segformer3d.py\", line 216, in forward\n",
            "    x_ = x.permute(0, 2, 1).reshape(B, C, n, n, n)\n",
            "RuntimeError: shape '[16, 13824, 3, 3, 3]' is invalid for input of size 7077888\n",
            "Traceback (most recent call last):\n",
            "  File \"/content/SegFormer3D/experiments/brats_2023/my_experiment/run_experiment.py\", line 240, in <module>\n",
            "    launch_experiment(args.config)\n",
            "  File \"/content/SegFormer3D/experiments/brats_2023/my_experiment/run_experiment.py\", line 140, in launch_experiment\n",
            "    trainer.train()\n",
            "  File \"/content/SegFormer3D/experiments/brats_2023/my_experiment/../../../train_scripts/trainer_ddp.py\", line 442, in train\n",
            "    self._run_train_val()\n",
            "  File \"/content/SegFormer3D/experiments/brats_2023/my_experiment/../../../train_scripts/trainer_ddp.py\", line 261, in _run_train_val\n",
            "    train_loss = self._train_step()\n",
            "  File \"/content/SegFormer3D/experiments/brats_2023/my_experiment/../../../train_scripts/trainer_ddp.py\", line 138, in _train_step\n",
            "    predicted = self.model.forward(data)\n",
            "  File \"/content/SegFormer3D/experiments/brats_2023/my_experiment/../../../architectures/segformer3d.py\", line 112, in forward\n",
            "    x = self.segformer_encoder(x)\n",
            "  File \"/usr/local/lib/python3.10/dist-packages/torch/nn/modules/module.py\", line 1532, in _wrapped_call_impl\n",
            "    return self._call_impl(*args, **kwargs)\n",
            "  File \"/usr/local/lib/python3.10/dist-packages/torch/nn/modules/module.py\", line 1582, in _call_impl\n",
            "    result = forward_call(*args, **kwargs)\n",
            "  File \"/content/SegFormer3D/experiments/brats_2023/my_experiment/../../../architectures/segformer3d.py\", line 421, in forward\n",
            "    x = blk(x)\n",
            "  File \"/usr/local/lib/python3.10/dist-packages/torch/nn/modules/module.py\", line 1532, in _wrapped_call_impl\n",
            "    return self._call_impl(*args, **kwargs)\n",
            "  File \"/usr/local/lib/python3.10/dist-packages/torch/nn/modules/module.py\", line 1541, in _call_impl\n",
            "    return forward_call(*args, **kwargs)\n",
            "  File \"/content/SegFormer3D/experiments/brats_2023/my_experiment/../../../architectures/segformer3d.py\", line 287, in forward\n",
            "    x = x + self.attention(self.norm1(x))\n",
            "  File \"/usr/local/lib/python3.10/dist-packages/torch/nn/modules/module.py\", line 1532, in _wrapped_call_impl\n",
            "    return self._call_impl(*args, **kwargs)\n",
            "  File \"/usr/local/lib/python3.10/dist-packages/torch/nn/modules/module.py\", line 1541, in _call_impl\n",
            "    return forward_call(*args, **kwargs)\n",
            "  File \"/content/SegFormer3D/experiments/brats_2023/my_experiment/../../../architectures/segformer3d.py\", line 216, in forward\n",
            "    x_ = x.permute(0, 2, 1).reshape(B, C, n, n, n)\n",
            "RuntimeError: shape '[16, 13824, 3, 3, 3]' is invalid for input of size 7077888\n",
            "\u001b[34m\u001b[1mwandb\u001b[0m: Waiting for W&B process to finish... \u001b[31m(failed 1).\u001b[0m\n",
            "\u001b[34m\u001b[1mwandb\u001b[0m: You can sync this run to the cloud by running:\n",
            "\u001b[34m\u001b[1mwandb\u001b[0m: \u001b[1mwandb sync /content/SegFormer3D/experiments/brats_2023/my_experiment/wandb/offline-run-20240709_152651-9p8bbme8\u001b[0m\n",
            "\u001b[34m\u001b[1mwandb\u001b[0m: Find logs at: \u001b[35m\u001b[1m./wandb/offline-run-20240709_152651-9p8bbme8/logs\u001b[0m\n",
            "Traceback (most recent call last):\n",
            "  File \"/usr/local/bin/accelerate\", line 8, in <module>\n",
            "    sys.exit(main())\n",
            "  File \"/usr/local/lib/python3.10/dist-packages/accelerate/commands/accelerate_cli.py\", line 47, in main\n",
            "    args.func(args)\n",
            "  File \"/usr/local/lib/python3.10/dist-packages/accelerate/commands/launch.py\", line 986, in launch_command\n",
            "    simple_launcher(args)\n",
            "  File \"/usr/local/lib/python3.10/dist-packages/accelerate/commands/launch.py\", line 628, in simple_launcher\n",
            "    raise subprocess.CalledProcessError(returncode=process.returncode, cmd=cmd)\n",
            "subprocess.CalledProcessError: Command '['/usr/bin/python3', 'run_experiment.py']' returned non-zero exit status 1.\n"
          ]
        }
      ]
    },
    {
      "cell_type": "markdown",
      "source": [
        "## Evaluation"
      ],
      "metadata": {
        "id": "4JPXqDlOE5Z_"
      }
    },
    {
      "cell_type": "markdown",
      "source": [
        "## Visualizing results"
      ],
      "metadata": {
        "id": "6EGvZOsdE6_r"
      }
    }
  ]
}